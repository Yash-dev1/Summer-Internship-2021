{
 "metadata": {
  "language_info": {
   "codemirror_mode": {
    "name": "ipython",
    "version": 3
   },
   "file_extension": ".py",
   "mimetype": "text/x-python",
   "name": "python",
   "nbconvert_exporter": "python",
   "pygments_lexer": "ipython3",
   "version": "3.8.6"
  },
  "orig_nbformat": 2,
  "kernelspec": {
   "name": "python386jvsc74a57bd01e67088acd4b81f5f1b09b09a41f82d5b9cc861743e750597b93e1efcfb78bb7",
   "display_name": "Python 3.8.6 64-bit"
  },
  "metadata": {
   "interpreter": {
    "hash": "1e67088acd4b81f5f1b09b09a41f82d5b9cc861743e750597b93e1efcfb78bb7"
   }
  }
 },
 "nbformat": 4,
 "nbformat_minor": 2,
 "cells": [
  {
   "source": [
    "# Imports Needed:"
   ],
   "cell_type": "markdown",
   "metadata": {}
  },
  {
   "cell_type": "code",
   "execution_count": null,
   "metadata": {},
   "outputs": [],
   "source": []
  },
  {
   "source": [
    "# Data:"
   ],
   "cell_type": "markdown",
   "metadata": {}
  },
  {
   "source": [
    "### Importing-"
   ],
   "cell_type": "markdown",
   "metadata": {}
  },
  {
   "cell_type": "code",
   "execution_count": null,
   "metadata": {},
   "outputs": [],
   "source": [
    "Train = pd.read_csv('.csv') # Importing the csv file\n",
    "Test = pd.read_csv('.csv')\n"
   ]
  },
  {
   "source": [
    "## IMPORTED DATA INFORMATION "
   ],
   "cell_type": "markdown",
   "metadata": {}
  },
  {
   "cell_type": "code",
   "execution_count": null,
   "metadata": {},
   "outputs": [],
   "source": [
    "print(Train.shape)"
   ]
  },
  {
   "cell_type": "code",
   "execution_count": null,
   "metadata": {},
   "outputs": [],
   "source": [
    "print(Train.info())"
   ]
  },
  {
   "cell_type": "code",
   "execution_count": null,
   "metadata": {},
   "outputs": [],
   "source": [
    "print(Train.describe().T)"
   ]
  },
  {
   "source": [
    "## Data Vizualisation:"
   ],
   "cell_type": "markdown",
   "metadata": {}
  },
  {
   "cell_type": "code",
   "execution_count": null,
   "metadata": {},
   "outputs": [],
   "source": [
    "# figure size in inches\n",
    "rcParams['figure.figsize'] = 11.7,8.27\n",
    "\n",
    "# Visualising the PM 2.5 Values\n",
    "\n",
    "sns.lineplot(data = Train[\"PM2.5\"], color=\"orange\", label=\"PM2.5\")\n",
    "plt.title('Visualising PM2.5 Data')\n",
    "plt.show()"
   ]
  },
  {
   "cell_type": "code",
   "execution_count": null,
   "metadata": {},
   "outputs": [],
   "source": [
    "df_corr = Train.corr()\n",
    "plt.figure(figsize=(20,8))\n",
    "ax = sns.heatmap( df_corr, \n",
    "    vmin=-1, vmax=1, center=0,\n",
    "    cmap=sns.diverging_palette(20, 220, n=200),\n",
    "    square=True, annot = True\n",
    ")\n",
    "ax.set_xticklabels(\n",
    "    ax.get_xticklabels(),\n",
    "    rotation=45,\n",
    "    horizontalalignment='right'\n",
    ")\n",
    "plt.show()"
   ]
  },
  {
   "source": [
    "### SPLITTING THE DATA FOR TRAINING\n"
   ],
   "cell_type": "markdown",
   "metadata": {}
  },
  {
   "cell_type": "code",
   "execution_count": null,
   "metadata": {},
   "outputs": [],
   "source": [
    "# from sklearn.model_selection import train_test_split\n",
    "# X_train, X_test, y_train, y_test = train_test_split(Train.iloc[:,:8], Train.iloc[:,8], test_size=0.15, random_state=0) # This is an important function of train test split (Here train size = 90% and test size = 10%)"
   ]
  },
  {
   "source": [
    "## Normalising"
   ],
   "cell_type": "markdown",
   "metadata": {}
  },
  {
   "cell_type": "code",
   "execution_count": null,
   "metadata": {},
   "outputs": [],
   "source": [
    "cols=Train.columns\n",
    "\n",
    "min_max_scale=MinMaxScaler()\n",
    "X = min_max_scale.fit_transform(Train.iloc[:,:-1].values)\n",
    "\n",
    "y = pd.DataFrame(conversion(Train), columns = ['PM2.5'])\n",
    "Y=y.values\n"
   ]
  },
  {
   "cell_type": "code",
   "execution_count": null,
   "metadata": {},
   "outputs": [],
   "source": [
    "X_t=min_max_scale.fit_transform(Test.iloc[:,:-1].values)\n",
    "\n",
    "\n",
    "y_t=pd.DataFrame(conversion(Test), columns = ['PM2.5'])\n",
    "Y_t=y_t.values"
   ]
  },
  {
   "source": [
    "## APPLYING DNN"
   ],
   "cell_type": "markdown",
   "metadata": {}
  },
  {
   "cell_type": "code",
   "execution_count": null,
   "metadata": {},
   "outputs": [],
   "source": [
    "import keras\n",
    "from keras import regularizers\n",
    "from keras.models import Sequential\n",
    "from keras.layers import Dense, Dropout\n",
    "classifier = Sequential()\n",
    "\n",
    "classifier.add(Dense(7, activation = 'relu', input_dim = 8, kernel_regularizer= regularizers.l2(0.01)))\n",
    "classifier.add(Dense(20, activation = 'relu', kernel_regularizer= regularizers.l2(0.01)))\n",
    "classifier.add(Dense(1, activation = 'sigmoid'))\n",
    "classifier.compile(optimizer = 'adam', loss = 'binary_crossentropy', metrics = ['accuracy'])\n",
    "classifier.fit(X, Y, batch_size = 10, epochs = 100,verbose=None,shuffle=True)\n",
    "prediction = classifier.predict(X_t)\n",
    "acc_ANN(Y_t, prediction)"
   ]
  },
  {
   "cell_type": "code",
   "execution_count": null,
   "metadata": {},
   "outputs": [],
   "source": [
    "plt.figure(figsize=(10, 5))\n",
    "  \n",
    "plt.subplot(121)\n",
    "plt.title('PM 2.5 Distribution')\n",
    "sns.distplot(Y)\n",
    "\n",
    "plt.subplot(122)\n",
    "plt.title('PM 2.5 Distribution for predicted values')\n",
    "sns.distplot(Y_t-prediction)\n",
    "plt.show()\n",
    "\n",
    "plt.title('Scatter plot for PM 2.5 real vs predicted')\n",
    "plt.scatter(Y_t,prediction)\n",
    "plt.show()\n",
    "\n",
    "plt.figure(figsize=(15,10))\n",
    "plt.plot(prediction)\n",
    "plt.plot(Y_t)\n",
    "plt.title('Prediction vs Real PM2.5 values')\n",
    "plt.ylabel('PM 2.5')\n",
    "plt.xlabel('Days')\n",
    "plt.legend(['Prediction', 'Real'], loc='upper left')\n",
    "plt.show()"
   ]
  },
  {
   "cell_type": "code",
   "execution_count": null,
   "metadata": {},
   "outputs": [],
   "source": [
    "from sklearn import metrics\n",
    "print('MAE:', metrics.mean_absolute_error(Y_t, prediction))\n",
    "print('MSE:', metrics.mean_squared_error(Y_t, prediction))\n",
    "print('RMSE:', np.sqrt(metrics.mean_squared_error(Y_t, prediction)))"
   ]
  }
 ]
}